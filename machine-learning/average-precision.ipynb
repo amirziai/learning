{
 "cells": [
  {
   "cell_type": "markdown",
   "id": "8da07ff1",
   "metadata": {},
   "source": [
    "# Ranking metrics from first principles: Average Precision"
   ]
  },
  {
   "cell_type": "code",
   "execution_count": 1,
   "id": "69792c86",
   "metadata": {},
   "outputs": [],
   "source": [
    "from fractions import Fraction\n",
    "import itertools\n",
    "import math\n",
    "import typing as t\n",
    "\n",
    "import matplotlib.pyplot as plt\n",
    "from matplotlib.patches import Patch, Rectangle\n",
    "import numpy as np\n",
    "import pandas as pd\n",
    "from sklearn.metrics import average_precision_score as ap"
   ]
  },
  {
   "cell_type": "code",
   "execution_count": 2,
   "id": "3de34e11",
   "metadata": {},
   "outputs": [],
   "source": [
    "assert ap([True, False, True], [1, 0.5, 1]) == 1.0"
   ]
  },
  {
   "cell_type": "markdown",
   "id": "16b66d43",
   "metadata": {},
   "source": [
    "### Toy data"
   ]
  },
  {
   "cell_type": "code",
   "execution_count": 3,
   "id": "2e1d1c50",
   "metadata": {},
   "outputs": [],
   "source": [
    "items = ('🌭', '🍔', '🌮', '🍕', '🍣')\n",
    "users = ('🙂', '🤓')\n",
    "\n",
    "ground_truth = {\n",
    "    '🙂': {\n",
    "        '🌭': True,\n",
    "        '🍔': True,\n",
    "        '🌮': True,\n",
    "        '🍕': False,\n",
    "        '🍣': False,\n",
    "    },\n",
    "    '🤓': {\n",
    "        '🍕': True,\n",
    "        '🍣': True,\n",
    "        '🌮': False,\n",
    "        '🌭': False,\n",
    "        '🍔': False,\n",
    "    },\n",
    "}\n",
    "\n",
    "ranker_results = {\n",
    "    1: {\n",
    "        '🙂': ['🌭', '🍔', '🌮', '🍕', '🍣'],\n",
    "        '🤓': ['🍕', '🍣', '🌮', '🌭', '🍔'],\n",
    "    },\n",
    "    2: {\n",
    "        '🙂': ['🌮', '🌭', '🍔', '🍣', '🍕'],\n",
    "        '🤓': ['🍣', '🍕', '🌭', '🌮', '🍔'],\n",
    "    },\n",
    "    3: {\n",
    "        '🙂': ['🍣', '🍕', '🌮', '🌭', '🍔'],\n",
    "        '🤓': ['🌮', '🍔', '🌭', '🍣', '🍕'],\n",
    "    },\n",
    "    4: {\n",
    "        '🙂': ['🌭', '🍣', '🍔', '🍕', '🌮'],\n",
    "        '🤓': ['🍕', '🌮', '🍣', '🌭', '🍔'],\n",
    "    },\n",
    "}"
   ]
  },
  {
   "cell_type": "code",
   "execution_count": 4,
   "id": "76e2cc18",
   "metadata": {},
   "outputs": [],
   "source": [
    "def user_ap(\n",
    "    user: str,\n",
    "    ranking: t.Sequence[str],\n",
    ") -> float:\n",
    "    y_pred = list(range(len(ranking), 0, -1))\n",
    "    y_true = [\n",
    "        ground_truth[user][item]\n",
    "        for item in ranking\n",
    "    ]\n",
    "    return ap(y_true, y_pred)"
   ]
  },
  {
   "cell_type": "code",
   "execution_count": 5,
   "id": "0869e16d",
   "metadata": {},
   "outputs": [
    {
     "data": {
      "text/plain": [
       "1.0"
      ]
     },
     "execution_count": 5,
     "metadata": {},
     "output_type": "execute_result"
    }
   ],
   "source": [
    "user_ap(user='🙂', ranking=ranker_results[1]['🙂'])"
   ]
  },
  {
   "cell_type": "code",
   "execution_count": 6,
   "id": "b09c8c9e",
   "metadata": {},
   "outputs": [
    {
     "data": {
      "text/html": [
       "<div>\n",
       "<style scoped>\n",
       "    .dataframe tbody tr th:only-of-type {\n",
       "        vertical-align: middle;\n",
       "    }\n",
       "\n",
       "    .dataframe tbody tr th {\n",
       "        vertical-align: top;\n",
       "    }\n",
       "\n",
       "    .dataframe thead th {\n",
       "        text-align: right;\n",
       "    }\n",
       "</style>\n",
       "<table border=\"1\" class=\"dataframe\">\n",
       "  <thead>\n",
       "    <tr style=\"text-align: right;\">\n",
       "      <th>user</th>\n",
       "      <th>🙂</th>\n",
       "      <th>🤓</th>\n",
       "    </tr>\n",
       "    <tr>\n",
       "      <th>ranker</th>\n",
       "      <th></th>\n",
       "      <th></th>\n",
       "    </tr>\n",
       "  </thead>\n",
       "  <tbody>\n",
       "    <tr>\n",
       "      <th>1</th>\n",
       "      <td>1.00</td>\n",
       "      <td>1.00</td>\n",
       "    </tr>\n",
       "    <tr>\n",
       "      <th>2</th>\n",
       "      <td>1.00</td>\n",
       "      <td>1.00</td>\n",
       "    </tr>\n",
       "    <tr>\n",
       "      <th>3</th>\n",
       "      <td>0.48</td>\n",
       "      <td>0.32</td>\n",
       "    </tr>\n",
       "    <tr>\n",
       "      <th>4</th>\n",
       "      <td>0.76</td>\n",
       "      <td>0.83</td>\n",
       "    </tr>\n",
       "  </tbody>\n",
       "</table>\n",
       "</div>"
      ],
      "text/plain": [
       "user       🙂     🤓\n",
       "ranker            \n",
       "1       1.00  1.00\n",
       "2       1.00  1.00\n",
       "3       0.48  0.32\n",
       "4       0.76  0.83"
      ]
     },
     "execution_count": 6,
     "metadata": {},
     "output_type": "execute_result"
    }
   ],
   "source": [
    "pd.DataFrame(\n",
    "    dict(\n",
    "        ranker=ranker,\n",
    "        user=user,\n",
    "        ap=user_ap(user=user, ranking=ranking)\n",
    "    )\n",
    "    for ranker, res in ranker_results.items()\n",
    "    for user, ranking in res.items()\n",
    ").groupby(['ranker', 'user']).ap.mean().unstack().round(2)"
   ]
  },
  {
   "cell_type": "code",
   "execution_count": 7,
   "id": "c032a351",
   "metadata": {},
   "outputs": [],
   "source": [
    "def swap(\n",
    "    ranking: t.Sequence[str],\n",
    "    i: int,\n",
    "    j: int,\n",
    ") -> t.List[str]:\n",
    "    tmp = ranking[::]\n",
    "    tmp[i], tmp[j] = tmp[j], tmp[i]\n",
    "    return tmp"
   ]
  },
  {
   "cell_type": "code",
   "execution_count": 8,
   "id": "be54c61b",
   "metadata": {},
   "outputs": [
    {
     "data": {
      "text/plain": [
       "0.8666666666666667"
      ]
     },
     "execution_count": 8,
     "metadata": {},
     "output_type": "execute_result"
    }
   ],
   "source": [
    "ranker4 = ranker_results[4]\n",
    "user_ap(\n",
    "    user='🙂',\n",
    "    ranking=swap(ranker4['🙂'], i=1, j=2),\n",
    ")"
   ]
  },
  {
   "cell_type": "code",
   "execution_count": 9,
   "id": "ca3a59b4",
   "metadata": {},
   "outputs": [
    {
     "data": {
      "text/plain": [
       "1.0"
      ]
     },
     "execution_count": 9,
     "metadata": {},
     "output_type": "execute_result"
    }
   ],
   "source": [
    "user_ap(\n",
    "    user='🤓',\n",
    "    ranking=swap(ranker4['🤓'], i=1, j=2),\n",
    ")"
   ]
  },
  {
   "cell_type": "code",
   "execution_count": 10,
   "id": "b20bba36",
   "metadata": {},
   "outputs": [
    {
     "data": {
      "text/html": [
       "<div>\n",
       "<style scoped>\n",
       "    .dataframe tbody tr th:only-of-type {\n",
       "        vertical-align: middle;\n",
       "    }\n",
       "\n",
       "    .dataframe tbody tr th {\n",
       "        vertical-align: top;\n",
       "    }\n",
       "\n",
       "    .dataframe thead th {\n",
       "        text-align: right;\n",
       "    }\n",
       "</style>\n",
       "<table border=\"1\" class=\"dataframe\">\n",
       "  <thead>\n",
       "    <tr style=\"text-align: right;\">\n",
       "      <th></th>\n",
       "      <th>count</th>\n",
       "      <th>mean</th>\n",
       "      <th>std</th>\n",
       "      <th>min</th>\n",
       "      <th>25%</th>\n",
       "      <th>50%</th>\n",
       "      <th>75%</th>\n",
       "      <th>max</th>\n",
       "    </tr>\n",
       "    <tr>\n",
       "      <th>user</th>\n",
       "      <th></th>\n",
       "      <th></th>\n",
       "      <th></th>\n",
       "      <th></th>\n",
       "      <th></th>\n",
       "      <th></th>\n",
       "      <th></th>\n",
       "      <th></th>\n",
       "    </tr>\n",
       "  </thead>\n",
       "  <tbody>\n",
       "    <tr>\n",
       "      <th>🙂</th>\n",
       "      <td>10000.0</td>\n",
       "      <td>0.73</td>\n",
       "      <td>0.16</td>\n",
       "      <td>0.48</td>\n",
       "      <td>0.59</td>\n",
       "      <td>0.76</td>\n",
       "      <td>0.87</td>\n",
       "      <td>1.0</td>\n",
       "    </tr>\n",
       "    <tr>\n",
       "      <th>🤓</th>\n",
       "      <td>10000.0</td>\n",
       "      <td>0.59</td>\n",
       "      <td>0.21</td>\n",
       "      <td>0.32</td>\n",
       "      <td>0.42</td>\n",
       "      <td>0.50</td>\n",
       "      <td>0.75</td>\n",
       "      <td>1.0</td>\n",
       "    </tr>\n",
       "  </tbody>\n",
       "</table>\n",
       "</div>"
      ],
      "text/plain": [
       "        count  mean   std   min   25%   50%   75%  max\n",
       "user                                                  \n",
       "🙂     10000.0  0.73  0.16  0.48  0.59  0.76  0.87  1.0\n",
       "🤓     10000.0  0.59  0.21  0.32  0.42  0.50  0.75  1.0"
      ]
     },
     "execution_count": 10,
     "metadata": {},
     "output_type": "execute_result"
    }
   ],
   "source": [
    "SEED = 0\n",
    "N_ITER = 10_000\n",
    "\n",
    "np.random.seed(SEED)\n",
    "\n",
    "df_user_ap_random_rankings = pd.DataFrame(\n",
    "    dict(\n",
    "        user=user,\n",
    "        ap=user_ap(\n",
    "            user=user,\n",
    "            ranking=np.random.choice(\n",
    "                items,\n",
    "                replace=False,\n",
    "                size=len(items),\n",
    "            )\n",
    "        ),\n",
    "    )\n",
    "    for user in users\n",
    "    for _ in range(N_ITER)\n",
    ")\n",
    "df_user_ap_random_rankings.groupby('user').ap.describe().round(2)"
   ]
  },
  {
   "cell_type": "markdown",
   "id": "745789ec",
   "metadata": {},
   "source": [
    "### PR curves"
   ]
  },
  {
   "cell_type": "code",
   "execution_count": 11,
   "id": "d8b34a7e",
   "metadata": {},
   "outputs": [],
   "source": [
    "class PrecisionRecallCurve:\n",
    "    SCORES = [0.9, 0.7, 0.5, 0.3, 0.1]\n",
    "    \n",
    "    @staticmethod\n",
    "    def _precision(df: pd.DataFrame, score: float, op: str) -> float:\n",
    "        cond = getattr(df.score, op)(score)\n",
    "        return df[cond].ground_truth.mean()\n",
    "    \n",
    "    @staticmethod\n",
    "    def _recall(df: pd.DataFrame, score: float, op: str) -> float:\n",
    "        cond = getattr(df.score, op)(score)\n",
    "        p = df.ground_truth.sum()\n",
    "        return df[cond].ground_truth.sum() / p\n",
    "    \n",
    "    @classmethod\n",
    "    def _get_user_ranker_df(\n",
    "        cls,\n",
    "        user: str,\n",
    "        ranker_nbr: int,\n",
    "    ) -> pd.DataFrame:\n",
    "        res_user = ranker_results[ranker_nbr][user]\n",
    "        gt_user = [ground_truth[user][item] for item in res_user]\n",
    "        return pd.DataFrame(dict(\n",
    "            ground_truth=gt_user,\n",
    "            score=cls.SCORES,\n",
    "        ))\n",
    "    \n",
    "    @classmethod\n",
    "    def _plot(\n",
    "        cls,\n",
    "        user: str,\n",
    "        ranker_nbr: int,\n",
    "        fn,\n",
    "        name: str,\n",
    "    ) -> None:\n",
    "        scores = [0] + sorted(cls.SCORES) + [1]\n",
    "        df = cls._get_user_ranker_df(\n",
    "            user=user,\n",
    "            ranker_nbr=ranker_nbr,\n",
    "        )\n",
    "        y = [\n",
    "            fn(df=df, score=s, op=op)\n",
    "            for s in scores\n",
    "            for op in (\"ge\", \"gt\")\n",
    "        ]\n",
    "        x = [s for s in scores for _ in range(2)]\n",
    "        pd.DataFrame(dict(\n",
    "            Threshold=x,\n",
    "            y=y,\n",
    "        )).set_index('Threshold').y.plot()\n",
    "        plt.ylabel(name)\n",
    "        plt.ylim([-0.1, 1.1])\n",
    "        plt.xlim([-0.1, 1.1])\n",
    "\n",
    "    @classmethod\n",
    "    def plot_recall_for_user(\n",
    "        cls,\n",
    "        user: str,\n",
    "        ranker_nbr: int,\n",
    "    ) -> None:\n",
    "        cls._plot(\n",
    "            user=user,\n",
    "            ranker_nbr=ranker_nbr,\n",
    "            fn=cls._recall,\n",
    "            name=\"Recall\",\n",
    "        )\n",
    "        \n",
    "    @classmethod\n",
    "    def plot_precision_for_user(\n",
    "        cls,\n",
    "        user: str,\n",
    "        ranker_nbr: int,\n",
    "    ) -> None:\n",
    "        cls._plot(\n",
    "            user=user,\n",
    "            ranker_nbr=ranker_nbr,\n",
    "            fn=cls._precision,\n",
    "            name=\"Precision\",\n",
    "        )\n",
    "        \n",
    "    @classmethod\n",
    "    def pr_points(\n",
    "        cls,\n",
    "        user: str,\n",
    "        ranker_nbr: int,\n",
    "    ) -> pd.DataFrame:\n",
    "        ranked = ranker_results[ranker_nbr][user]\n",
    "        df = pd.DataFrame(\n",
    "            dict(\n",
    "                rank=idx + 1,\n",
    "                item=item,\n",
    "                is_pos=ground_truth[user][item],\n",
    "            )\n",
    "            for idx, item in enumerate(ranked)\n",
    "        )\n",
    "        is_pos_cum = df.is_pos.cumsum()\n",
    "        pos_cnt = is_pos_cum.iloc[-1]\n",
    "        df = df.assign(\n",
    "            precision=is_pos_cum / df['rank'],\n",
    "            recall=is_pos_cum / pos_cnt,\n",
    "        )\n",
    "        df = df.assign(\n",
    "            recall_diff=df.recall - df.recall.shift().fillna(0)\n",
    "        )\n",
    "        return df.assign(\n",
    "            ap=(df.precision * df.recall_diff).cumsum(),\n",
    "        )\n",
    "    \n",
    "    @classmethod\n",
    "    def plot_pr_points(\n",
    "        cls,\n",
    "        user: str,\n",
    "        ranker_nbr: int,\n",
    "        show_ap: bool = True,\n",
    "        show_auc: bool = True,\n",
    "    ) -> None:\n",
    "        df = cls.pr_points(\n",
    "            user=user,\n",
    "            ranker_nbr=ranker_nbr,\n",
    "        )\n",
    "        df_pos = df[df.is_pos]\n",
    "        df_neg = df[~df.is_pos]\n",
    "        ap_ = ap(\n",
    "            df.is_pos,\n",
    "            list(range(len(df))[::-1]),\n",
    "        )\n",
    "        args = dict(\n",
    "            x='recall',\n",
    "            y='precision',\n",
    "            marker='+',\n",
    "            s=60,\n",
    "            c='g',\n",
    "            title=f'AP = {ap_:.2f}' if show_ap else None,\n",
    "        )\n",
    "        ax = df_pos.plot.scatter(**args)\n",
    "        args_mod = dict(\n",
    "            marker='_',\n",
    "            c='r',\n",
    "            ax=ax,\n",
    "        )\n",
    "        df_neg.plot.scatter(**{**args, **args_mod})\n",
    "\n",
    "        if show_auc:\n",
    "            beg = 0\n",
    "            for _, row in df_pos.iterrows():\n",
    "                rect = Rectangle(\n",
    "                    (beg, 0),\n",
    "                    row.recall_diff,\n",
    "                    row.precision,\n",
    "                    linewidth=.5,\n",
    "                    edgecolor='c',\n",
    "                    facecolor='c',\n",
    "                    alpha=.1,\n",
    "                )\n",
    "                beg = row.recall\n",
    "                ax.add_patch(rect)\n",
    "\n",
    "        lims = (-0.1, 1.1)\n",
    "        plt.xlim(*lims)\n",
    "        plt.ylim(*lims)"
   ]
  },
  {
   "cell_type": "code",
   "execution_count": 12,
   "id": "c5884cbb",
   "metadata": {},
   "outputs": [
    {
     "data": {
      "image/png": "[encoded data removed]",
      "text/plain": [
       "<Figure size 432x288 with 1 Axes>"
      ]
     },
     "metadata": {
      "needs_background": "light"
     },
     "output_type": "display_data"
    }
   ],
   "source": [
    "PrecisionRecallCurve.plot_recall_for_user(user='🙂', ranker_nbr=2)"
   ]
  },
  {
   "cell_type": "code",
   "execution_count": 13,
   "id": "a93fa083",
   "metadata": {},
   "outputs": [
    {
     "data": {
      "image/png": "[encoded data removed]",
      "text/plain": [
       "<Figure size 432x288 with 1 Axes>"
      ]
     },
     "metadata": {
      "needs_background": "light"
     },
     "output_type": "display_data"
    }
   ],
   "source": [
    "PrecisionRecallCurve.plot_precision_for_user(user='🙂', ranker_nbr=2)"
   ]
  },
  {
   "cell_type": "code",
   "execution_count": 14,
   "id": "bcb59dfe",
   "metadata": {},
   "outputs": [
    {
     "data": {
      "image/png": "[encoded data removed]",
      "text/plain": [
       "<Figure size 432x288 with 1 Axes>"
      ]
     },
     "metadata": {
      "needs_background": "light"
     },
     "output_type": "display_data"
    }
   ],
   "source": [
    "PrecisionRecallCurve.plot_pr_points(\n",
    "    user='🙂',\n",
    "    ranker_nbr=4,\n",
    ")"
   ]
  },
  {
   "cell_type": "markdown",
   "id": "6f6cfae8",
   "metadata": {},
   "source": [
    "### AP calculation"
   ]
  },
  {
   "cell_type": "code",
   "execution_count": 15,
   "id": "18527c8a",
   "metadata": {},
   "outputs": [],
   "source": [
    "def ap_simple(\n",
    "    ranked: t.Sequence[bool]\n",
    ") -> float:\n",
    "    pos_cnt = 0\n",
    "    precision_sum = 0\n",
    "    for idx, r in enumerate(ranked):\n",
    "        if r:\n",
    "            pos_cnt += 1\n",
    "            precision_sum += pos_cnt / (idx + 1)\n",
    "    if pos_cnt == 0:\n",
    "        return float('nan')\n",
    "    return precision_sum / pos_cnt"
   ]
  },
  {
   "cell_type": "code",
   "execution_count": 16,
   "id": "770fb5f2",
   "metadata": {},
   "outputs": [],
   "source": [
    "assert ap_simple([True]) == 1\n",
    "assert ap_simple([True] * 10) == 1\n",
    "assert ap_simple([True, False]) == 1\n",
    "assert ap_simple([False, True]) == 1 / 2\n",
    "assert ap_simple([False, False, True]) == 1/3\n",
    "\n",
    "assert ap_simple([True, False, True, True, False]) == (1 + 2/3 + 3/4) / 3\n",
    "assert ap_simple([False, True, False, False, True]) == (1/2 + 2/5) / 2\n",
    "assert ap_simple([True] * 5) == 1\n",
    "assert np.isnan(ap_simple([False] * 5))\n",
    "assert ap_simple([False, True, False, False, False]) == 1/2"
   ]
  },
  {
   "cell_type": "markdown",
   "id": "c425fb70",
   "metadata": {},
   "source": [
    "### Worst-case AP"
   ]
  },
  {
   "cell_type": "code",
   "execution_count": 17,
   "id": "39fa0eb6",
   "metadata": {},
   "outputs": [],
   "source": [
    "def ap_worst_case(N: int, P: int) -> float:\n",
    "    assert 0 < P <= N\n",
    "    return sum(\n",
    "        i / (N - P + i)\n",
    "        for i in range(1, P + 1)\n",
    "    ) / P"
   ]
  },
  {
   "cell_type": "code",
   "execution_count": 18,
   "id": "145c3814",
   "metadata": {},
   "outputs": [],
   "source": [
    "assert round(ap_worst_case(N=5, P=3), 2) == 0.48\n",
    "assert ap_worst_case(N=5, P=2) == 0.325"
   ]
  },
  {
   "cell_type": "markdown",
   "id": "2af0afb5",
   "metadata": {},
   "source": [
    "#### plots"
   ]
  },
  {
   "cell_type": "code",
   "execution_count": 19,
   "id": "1f28441b",
   "metadata": {},
   "outputs": [],
   "source": [
    "def ap_worst_simple(n: int, p: int) -> float:\n",
    "    assert 0 < p <= n\n",
    "    return sum(\n",
    "        i / (n - p + i)\n",
    "        for i in range(1, p + 1)\n",
    "    ) / p\n",
    "\n",
    "\n",
    "def ap_worst(rankings: t.Sequence[str]) -> float:\n",
    "    return ap_worst_case(\n",
    "        N=len(rankings), P=sum(rankings),\n",
    "    )\n",
    "\n",
    "\n",
    "def ap_worst_by_p_smallest_n(p: Fraction) -> float:\n",
    "    return ap_worst_n_p(n=p.denominator, p=float(p))\n",
    "\n",
    "\n",
    "def ap_worst_n_p(n, p):\n",
    "    pp = n * p\n",
    "    if pp == int(pp):\n",
    "        return dict(\n",
    "            N=n,\n",
    "            p=p,\n",
    "            ap=ap_worst_simple(n=n, p=int(pp)),\n",
    "        )"
   ]
  },
  {
   "cell_type": "code",
   "execution_count": 20,
   "id": "d2f2f20f",
   "metadata": {},
   "outputs": [
    {
     "data": {
      "image/png": "[encoded data removed]",
      "text/plain": [
       "<Figure size 864x504 with 1 Axes>"
      ]
     },
     "metadata": {
      "needs_background": "light"
     },
     "output_type": "display_data"
    }
   ],
   "source": [
    "ps = (0.1, .25, .5, .75, .9)\n",
    "ns = (2, 4, 5, 10, 20, int(1e2), int(1e3))\n",
    "\n",
    "res = (\n",
    "    ap_worst_n_p(n, p)\n",
    "    for n in ns\n",
    "    for p in ps\n",
    ")\n",
    "_ = pd.DataFrame(\n",
    "    x\n",
    "    for x in res\n",
    "    if x is not None\n",
    ").groupby(['N', 'p']).ap.mean().unstack().interpolate().plot(\n",
    "    logx=True,\n",
    "    figsize=(12, 7),\n",
    "    ylabel='AP',\n",
    "    ylim=[0, 1],\n",
    ")\n",
    "_ = plt.title('Worst case AP as a function of N')"
   ]
  },
  {
   "cell_type": "code",
   "execution_count": 21,
   "id": "46067fba",
   "metadata": {},
   "outputs": [],
   "source": [
    "ps = (\n",
    "    Fraction(1, 100),\n",
    "    Fraction(1, 10),\n",
    "    Fraction(1, 4),\n",
    "    Fraction(1, 2),\n",
    "    Fraction(3, 4),\n",
    "    Fraction(9, 10),\n",
    "    Fraction(99, 100),\n",
    "    Fraction(999, 1_000),\n",
    ")"
   ]
  },
  {
   "cell_type": "code",
   "execution_count": 22,
   "id": "95e482a1",
   "metadata": {},
   "outputs": [
    {
     "data": {
      "image/png": "[encoded data removed]",
      "text/plain": [
       "<Figure size 432x288 with 1 Axes>"
      ]
     },
     "metadata": {
      "needs_background": "light"
     },
     "output_type": "display_data"
    }
   ],
   "source": [
    "fig = pd.DataFrame(\n",
    "    dict(\n",
    "        p=float(p),\n",
    "        AP_large_N=ap_worst_n_p(n=1_000_000, p=float(p))['ap'],\n",
    "        AP_small_N=ap_worst_by_p_smallest_n(p=p)['ap'],\n",
    "    )\n",
    "    for p in ps\n",
    ").set_index('p').plot(ylim=[0, 1], xlim=[0, 1], ylabel='AP')\n",
    "_ = fig.plot([0, 1], [0, 1], transform=fig.transAxes, ls='--', c=\".7\")\n",
    "_ = plt.title('Worst case AP for small and large N')"
   ]
  },
  {
   "cell_type": "markdown",
   "id": "e6400a90",
   "metadata": {},
   "source": [
    "### Expected AP"
   ]
  },
  {
   "cell_type": "code",
   "execution_count": 23,
   "id": "affdfe38",
   "metadata": {},
   "outputs": [],
   "source": [
    "COLORS = plt.rcParams['axes.prop_cycle'].by_key()['color']"
   ]
  },
  {
   "cell_type": "code",
   "execution_count": 24,
   "id": "7c300e12",
   "metadata": {},
   "outputs": [],
   "source": [
    "def expected_ap_naive(N: int, P: int) -> float:\n",
    "    return sum(\n",
    "        ap_simple(r)\n",
    "        for r in itertools.permutations([True] * P + [False] * (N - P))\n",
    "    ) / math.factorial(N)\n",
    "\n",
    "\n",
    "def expected_ap_p1(N: int) -> float:\n",
    "    return sum(\n",
    "        1 / i\n",
    "        for i in range(1, N + 1)\n",
    "    ) / N\n",
    "\n",
    "\n",
    "def expected_ap_naive2(N: int, P: int) -> int:\n",
    "    N_choose_P = math.comb(N, P)\n",
    "    return (1 / N_choose_P) * sum(\n",
    "        ap_simple(\n",
    "            [x in set(rs) for x in range(1, N + 1)]\n",
    "        )\n",
    "        for rs in itertools.combinations(range(1, N + 1), P)\n",
    "    )\n",
    "\n",
    "def expected_ap_simulate(N: int, P: int, iters: int = 1_000) -> float:\n",
    "    r = [True] * P + [False] * (N - P)\n",
    "    return sum(\n",
    "        ap_simple(np.random.permutation(r))\n",
    "        for _ in range(iters)\n",
    "    ) / iters"
   ]
  },
  {
   "cell_type": "markdown",
   "id": "bc8f5df7",
   "metadata": {},
   "source": [
    "#### plots"
   ]
  },
  {
   "cell_type": "code",
   "execution_count": 25,
   "id": "310e5060",
   "metadata": {},
   "outputs": [],
   "source": [
    "def simulate(items: t.Sequence[bool]) -> pd.Series:\n",
    "    np.random.seed(SEED)\n",
    "    return pd.Series(\n",
    "        ap_simple(\n",
    "            ranked=np.random.choice(\n",
    "                items, replace=False, size=len(items))\n",
    "        )\n",
    "        for _ in range(N_ITER)\n",
    "    ).describe()\n",
    "\n",
    "\n",
    "def simulate_np(N: int, p: float) -> float:\n",
    "    P = N * float(p)\n",
    "    if int(P) == P:\n",
    "        P = int(P)\n",
    "        return simulate(\n",
    "            items=[True] * P + [False] * (N - P)\n",
    "        )['mean']\n",
    "\n",
    "\n",
    "def plot_range_p_ap(a, b):\n",
    "    fig = df[[a, b]].plot(color=['r', 'g'])\n",
    "    plt.fill_between(\n",
    "        df.index,\n",
    "        [0] * len(df),\n",
    "        df[a],\n",
    "        alpha=.1,\n",
    "        color='grey',\n",
    "    )\n",
    "    plt.fill_between(\n",
    "        df.index,\n",
    "        df[a],\n",
    "        df[b],\n",
    "        alpha=.1,\n",
    "        color='red',\n",
    "    )\n",
    "    plt.fill_between(\n",
    "        df.index,\n",
    "        df[b],\n",
    "        [1] * len(df),\n",
    "        alpha=.1,\n",
    "        color='green',\n",
    "    )\n",
    "    fig.plot([0, 1], [0, 1], transform=fig.transAxes, ls='--', c=\".7\")\n",
    "    plt.xlim([0, 1])\n",
    "    plt.ylim([0, 1])"
   ]
  },
  {
   "cell_type": "code",
   "execution_count": 26,
   "id": "7780ee02",
   "metadata": {},
   "outputs": [],
   "source": [
    "df_exp = pd.DataFrame(\n",
    "    dict(\n",
    "        p=p,\n",
    "        N=n,\n",
    "        ap=simulate_np(N=n, p=p),\n",
    "    )\n",
    "    for p in ps\n",
    "    for n in ns\n",
    ")"
   ]
  },
  {
   "cell_type": "code",
   "execution_count": 27,
   "id": "69fd7cb3",
   "metadata": {},
   "outputs": [
    {
     "data": {
      "image/png": "[encoded data removed]",
      "text/plain": [
       "<Figure size 864x504 with 1 Axes>"
      ]
     },
     "metadata": {
      "needs_background": "light"
     },
     "output_type": "display_data"
    }
   ],
   "source": [
    "fig = df_exp.groupby(['N', 'p']).ap.mean().unstack().interpolate().plot(\n",
    "    logx=True,\n",
    "    figsize=(12, 7),\n",
    "    ylabel='AP',\n",
    "    ylim=[0, 1],\n",
    ")\n",
    "pd.DataFrame(\n",
    "    dict(\n",
    "        N=n,\n",
    "        p=p,\n",
    "        ap=p,\n",
    "    )\n",
    "    for n in [ns[0], ns[-1]]\n",
    "    for p in ps\n",
    ")\n",
    "for c, p in zip(COLORS, ps):\n",
    "    fig.hlines(y=float(p), xmin=ns[0], xmax=ns[-1], linewidth=2, color=c, ls='--', alpha=.5)"
   ]
  },
  {
   "cell_type": "code",
   "execution_count": 28,
   "id": "f83fe427",
   "metadata": {},
   "outputs": [],
   "source": [
    "df = pd.DataFrame(\n",
    "    dict(\n",
    "        p=float(p),\n",
    "        worst_case_large_N=ap_worst_n_p(n=1_000_000, p=float(p))['ap'],\n",
    "        worst_case_small_N=ap_worst_by_p_smallest_n(p=p)['ap'],\n",
    "        expected_small_N=simulate_np(\n",
    "            N=p.denominator,\n",
    "            p=float(p),\n",
    "        ),\n",
    "        expected_large_N=simulate_np(\n",
    "            N=1_000,\n",
    "            p=float(p),\n",
    "        ),\n",
    "    )\n",
    "    for p in ps\n",
    ").set_index('p')"
   ]
  },
  {
   "cell_type": "code",
   "execution_count": 29,
   "id": "824c44d4",
   "metadata": {},
   "outputs": [
    {
     "data": {
      "image/png": "[encoded data removed]",
      "text/plain": [
       "<Figure size 432x288 with 1 Axes>"
      ]
     },
     "metadata": {
      "needs_background": "light"
     },
     "output_type": "display_data"
    }
   ],
   "source": [
    "plot_range_p_ap(a='worst_case_small_N', b='expected_small_N')"
   ]
  },
  {
   "cell_type": "code",
   "execution_count": 30,
   "id": "6bc7c7ff",
   "metadata": {},
   "outputs": [
    {
     "data": {
      "image/png": "[encoded data removed]",
      "text/plain": [
       "<Figure size 432x288 with 1 Axes>"
      ]
     },
     "metadata": {
      "needs_background": "light"
     },
     "output_type": "display_data"
    }
   ],
   "source": [
    "plot_range_p_ap(a='worst_case_large_N', b='expected_large_N')"
   ]
  }
 ],
 "metadata": {
  "kernelspec": {
   "display_name": "Python 3 (ipykernel)",
   "language": "python",
   "name": "python3"
  },
  "language_info": {
   "codemirror_mode": {
    "name": "ipython",
    "version": 3
   },
   "file_extension": ".py",
   "mimetype": "text/x-python",
   "name": "python",
   "nbconvert_exporter": "python",
   "pygments_lexer": "ipython3",
   "version": "3.9.7"
  }
 },
 "nbformat": 4,
 "nbformat_minor": 5
}
