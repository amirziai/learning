{
 "cells": [
  {
   "cell_type": "code",
   "execution_count": 25,
   "id": "95f4edac",
   "metadata": {},
   "outputs": [
    {
     "name": "stdout",
     "output_type": "stream",
     "text": [
      "mmh3==3.0.0\r\n"
     ]
    }
   ],
   "source": [
    "!pip install -q mmh3==3.0.0\n",
    "!pip freeze | grep mmh3"
   ]
  },
  {
   "cell_type": "markdown",
   "id": "0e010bd5",
   "metadata": {},
   "source": [
    "## part 1 code copied over for reference"
   ]
  },
  {
   "cell_type": "code",
   "execution_count": 1,
   "id": "99f1a8cb",
   "metadata": {},
   "outputs": [],
   "source": [
    "import functools\n",
    "import mmh3\n",
    "import numpy as np\n",
    "import string\n",
    "from dataclasses import dataclass\n",
    "from typing import Set\n",
    "\n",
    "ServerId = str\n",
    "\n",
    "SEED = 0\n",
    "\n",
    "\n",
    "def hash_mmh3(key: str, seed: int = SEED) -> int:\n",
    "    return mmh3.hash(key, seed=seed)\n",
    "\n",
    "\n",
    "def random_str() -> str:\n",
    "    return \"\".join(np.random.choice(\n",
    "        # select from lowercase letters\n",
    "        list(string.ascii_lowercase),\n",
    "        # generate a string that's between 6 to 20\n",
    "        # characters long\n",
    "        size=np.random.randint(6, 20),\n",
    "        replace=True,\n",
    "    ))\n",
    "\n",
    "\n",
    "@dataclass(frozen=True)\n",
    "class Server:\n",
    "    server_id: ServerId\n",
    "    seed: int = SEED\n",
    "        \n",
    "    @property\n",
    "    @functools.lru_cache()\n",
    "    def hash_value(self) -> int:\n",
    "        return hash_mmh3(key=self.server_id, seed=self.seed)\n",
    "        \n",
    "    def __lt__(self, other: \"Server\") -> bool:\n",
    "        return self.hash_value < other.hash_value\n",
    "\n",
    "    \n",
    "class ConsistentHashing:\n",
    "    def __init__(self, server_ids: Set[str], seed: int = SEED):\n",
    "        assert len(server_ids) > 0\n",
    "        self._seed = seed\n",
    "        self._server_ids = server_ids\n",
    "        self._server_allocations = None\n",
    "        self._allocate_servers()\n",
    "        \n",
    "    def key_lookup(self, key: str) -> ServerId:\n",
    "        \"\"\"\n",
    "        Allocate `key` to a server.\n",
    "        \"\"\"\n",
    "        key_hash = hash_mmh3(key=key, seed=self._seed)\n",
    "        # compute the distance between the hash value of\n",
    "        # the input key and each server's hash\n",
    "        distances = (\n",
    "            (key_hash - server_obj.hash_value, server_id)\n",
    "            for server_id, server_obj\n",
    "            in self._server_allocations.items()\n",
    "        )\n",
    "        # find the server with the smallest positive distance\n",
    "        # assign None if no such server exists\n",
    "        # which means that the server with the largest hash is\n",
    "        # responsible for this key\n",
    "        closest = min((\n",
    "            (dist, server_id)\n",
    "            for dist, server_id in distances\n",
    "            if dist >= 0\n",
    "        ), default=None)\n",
    "        return (\n",
    "            # get the ID of the server with the largest hash value\n",
    "            max(self._server_allocations.values()).server_id\n",
    "            if closest is None\n",
    "            else closest[1]\n",
    "        )\n",
    "        \n",
    "    def add_server(self, server_id: ServerId) -> None:\n",
    "        if server_id in self._server_allocations:\n",
    "            raise ValueError(\n",
    "                f\"server_id={server_id} already exist.\"\n",
    "            )\n",
    "        self._server_ids.add(server_id)\n",
    "        self._add_server(server_id=server_id)\n",
    "    \n",
    "    def remove_server(self, server_id: ServerId) -> None:\n",
    "        if server_id not in self._server_allocations:\n",
    "            raise ValueError(\n",
    "                f\"server_id={server_id} does not exist\"\n",
    "            )\n",
    "        if len(self._server_allocations) == 1:\n",
    "            raise ValueError(\n",
    "                \"only one server left- cannot delete\"\n",
    "            )\n",
    "        self._server_ids.remove(server_id)\n",
    "        self._remove_server(server_id=server_id)\n",
    "        \n",
    "    def _allocate_servers(self):\n",
    "        \"\"\"\n",
    "        Map servers to the ring given the\n",
    "        current set of server IDs.\n",
    "        \"\"\"\n",
    "        self._server_allocations = {\n",
    "            server_id: Server(\n",
    "                server_id=server_id,\n",
    "                seed=self._seed,\n",
    "            )\n",
    "            for server_id in self._server_ids\n",
    "        }\n",
    "        \n",
    "    def _add_server(self, server_id: ServerId) -> None:\n",
    "        self._server_allocations[server_id] = Server(\n",
    "            server_id=server_id,\n",
    "            seed=self._seed,\n",
    "        )\n",
    "        \n",
    "    def _remove_server(self, server_id: ServerId) -> None:\n",
    "        del self._server_allocations[server_id]"
   ]
  },
  {
   "cell_type": "markdown",
   "id": "c531050b",
   "metadata": {},
   "source": [
    "## part 2 code starts here"
   ]
  },
  {
   "cell_type": "markdown",
   "id": "5232fcec",
   "metadata": {},
   "source": [
    "### 1. Is consistent hashing optimal?"
   ]
  },
  {
   "cell_type": "code",
   "execution_count": 2,
   "id": "2f220357",
   "metadata": {},
   "outputs": [],
   "source": [
    "import pandas as pd\n",
    "from typing import List, Optional, Sequence, Type\n",
    "\n",
    "\n",
    "def consistent_hashing_same_allocations(\n",
    "    n: int,\n",
    "    urls: List[str],\n",
    "    ch_cls: ConsistentHashing,\n",
    ") -> float:\n",
    "    ch = ch_cls(server_ids={\n",
    "        random_str() for _ in range(n)\n",
    "    })\n",
    "    allocs = {\n",
    "        url: ch.key_lookup(key=url)\n",
    "        for url in urls\n",
    "    }\n",
    "    ch.add_server(server_id=random_str())\n",
    "    return sum(\n",
    "        allocs[url] == ch.key_lookup(key=url)\n",
    "        for url in urls\n",
    "    ) / len(urls)\n",
    "\n",
    "\n",
    "def run_exp(\n",
    "    ns: Sequence[int],\n",
    "    experiment_cnt: int,\n",
    "    ch_cls: Type[ConsistentHashing],\n",
    ") -> pd.DataFrame:\n",
    "    return pd.DataFrame(\n",
    "        dict(\n",
    "            n=n,\n",
    "            idx_experiment=idx_experiment,\n",
    "            same_alloc=consistent_hashing_same_allocations(\n",
    "                n=n,\n",
    "                urls=urls,\n",
    "                ch_cls=ch_cls,\n",
    "            ),\n",
    "        )\n",
    "        for n in ns\n",
    "        for idx_experiment in range(experiment_cnt)\n",
    "    )"
   ]
  },
  {
   "cell_type": "code",
   "execution_count": 3,
   "id": "0a11e629",
   "metadata": {},
   "outputs": [
    {
     "name": "stdout",
     "output_type": "stream",
     "text": [
      "CPU times: user 2min 41s, sys: 319 ms, total: 2min 42s\n",
      "Wall time: 2min 42s\n"
     ]
    }
   ],
   "source": [
    "%%time\n",
    "url_cnt = 10_000\n",
    "urls = [random_str() for _ in range(url_cnt)]\n",
    "ns = (1, 2, 5, 10, 20, 50, 100)\n",
    "experiment_cnt = 100\n",
    "\n",
    "df_experiment_same_alloc = run_exp(\n",
    "    ns=ns,\n",
    "    experiment_cnt=experiment_cnt,\n",
    "    ch_cls=ConsistentHashing,\n",
    ")"
   ]
  },
  {
   "cell_type": "code",
   "execution_count": 4,
   "id": "9345ef74",
   "metadata": {},
   "outputs": [],
   "source": [
    "def ideal(n): return n / (n + 1)"
   ]
  },
  {
   "cell_type": "code",
   "execution_count": 5,
   "id": "8c80a281",
   "metadata": {},
   "outputs": [],
   "source": [
    "import matplotlib.pyplot as plt\n",
    "import seaborn as sns"
   ]
  },
  {
   "cell_type": "code",
   "execution_count": 6,
   "id": "3e0a29b9",
   "metadata": {},
   "outputs": [],
   "source": [
    "df_ideal = pd.DataFrame([\n",
    "    dict(\n",
    "        n=n,\n",
    "        idx_experiment=0,\n",
    "        same_alloc=ideal(n),\n",
    "    )\n",
    "    for n in ns\n",
    "]),"
   ]
  },
  {
   "cell_type": "code",
   "execution_count": 7,
   "id": "bcffa301",
   "metadata": {},
   "outputs": [
    {
     "data": {
      "image/png": "[encoded data removed]",
      "text/plain": [
       "<Figure size 432x288 with 1 Axes>"
      ]
     },
     "metadata": {
      "needs_background": "light"
     },
     "output_type": "display_data"
    }
   ],
   "source": [
    "sns.lineplot(x=list(map(str, ns)), y=list(map(ideal, ns)), marker='x', color='black')\n",
    "sns.lineplot(x=list(map(str, ns)), y=list(map(lambda n: 1 / (n + 1), ns)), marker='x', color='red')\n",
    "\n",
    "sns.boxplot(\n",
    "    x='n',\n",
    "    y='same_alloc',\n",
    "    data=df_experiment_same_alloc,\n",
    "    color='orange'\n",
    ")\n",
    "plt.xlabel('Number of initial servers')\n",
    "_ = plt.ylabel('Fraction of URLs allocated to the same server')\n",
    "# plt.legend()"
   ]
  },
  {
   "cell_type": "markdown",
   "id": "9993ea42",
   "metadata": {},
   "source": [
    "#### Tokens"
   ]
  },
  {
   "cell_type": "code",
   "execution_count": 8,
   "id": "cd1e41d1",
   "metadata": {},
   "outputs": [],
   "source": [
    "class ConsistentHashingWithTokensNaive:\n",
    "    def __init__(\n",
    "        self,\n",
    "        server_ids: Set[ServerId],\n",
    "        k: int,\n",
    "        seed: int = SEED,\n",
    "    ):\n",
    "        server_ids_virtual = {\n",
    "            f\"{server_id}-{idx}\"\n",
    "            for server_id in server_ids\n",
    "            for idx in range(k)\n",
    "        }\n",
    "        self.k = k\n",
    "        self.ch = ConsistentHashing(\n",
    "            server_ids=server_ids_virtual,\n",
    "            seed=seed,\n",
    "        )\n",
    "        \n",
    "    def key_lookup(self, key: str) -> ServerId:\n",
    "        server_id_virtual = self.ch.key_lookup(key=key)\n",
    "        return \"-\".join(server_id_virtual.split(\"-\")[:-1])\n",
    "    \n",
    "    def add_server(self, server_id: ServerId) -> None:\n",
    "        for idx in range(self.k):\n",
    "            self.ch.add_server(server_id=f\"{server_id}-{idx}\")\n",
    "    \n",
    "    def remove_server(self, server_id: ServerId) -> None:\n",
    "        for idx in range(self.k):\n",
    "            self.ch.remove_server(server_id=f\"{server_id}-{idx}\")"
   ]
  },
  {
   "cell_type": "code",
   "execution_count": 9,
   "id": "c5dfcefe",
   "metadata": {},
   "outputs": [
    {
     "data": {
      "text/plain": [
       "['a', 'a']"
      ]
     },
     "execution_count": 9,
     "metadata": {},
     "output_type": "execute_result"
    }
   ],
   "source": [
    "ch = ConsistentHashingWithTokensNaive(\n",
    "    server_ids={\"a\", \"b\", \"c\"},\n",
    "    k=1_000,\n",
    ")\n",
    "\n",
    "first = ch.key_lookup('z')\n",
    "ch.add_server('d')\n",
    "second = ch.key_lookup('z')\n",
    "[first, second]"
   ]
  },
  {
   "cell_type": "code",
   "execution_count": 10,
   "id": "5f43ced3",
   "metadata": {},
   "outputs": [
    {
     "name": "stdout",
     "output_type": "stream",
     "text": [
      "CPU times: user 2min 24s, sys: 496 ms, total: 2min 24s\n",
      "Wall time: 2min 25s\n"
     ]
    },
    {
     "data": {
      "image/png": "[encoded data removed]",
      "text/plain": [
       "<Figure size 432x288 with 1 Axes>"
      ]
     },
     "metadata": {
      "needs_background": "light"
     },
     "output_type": "display_data"
    }
   ],
   "source": [
    "%%time\n",
    "df = pd.concat([\n",
    "    run_exp(\n",
    "        ns=(1, 5, 10),\n",
    "        experiment_cnt=5,\n",
    "        ch_cls=functools.partial(\n",
    "            ConsistentHashingWithTokensNaive,\n",
    "            k=k,\n",
    "        ),\n",
    "    ).assign(k=k)\n",
    "    for k in (1, 10, 100)\n",
    "])\n",
    "\n",
    "sns.lineplot(x=list(map(str, (1, 5, 10))), y=list(map(ideal, (1, 5, 10))), marker='x', color='black')\n",
    "_ = sns.boxplot(\n",
    "    x='n',\n",
    "    y='same_alloc',\n",
    "    data=df,\n",
    "    hue='k',\n",
    ")"
   ]
  },
  {
   "cell_type": "markdown",
   "id": "84441dbb",
   "metadata": {},
   "source": [
    "#### slices"
   ]
  },
  {
   "cell_type": "code",
   "execution_count": 11,
   "id": "31f0b918",
   "metadata": {},
   "outputs": [],
   "source": [
    "from collections import defaultdict\n",
    "\n",
    "\n",
    "def compute_slices(\n",
    "    n: int,\n",
    "    k: int,\n",
    "    seed: Optional[int] = None,\n",
    ") -> List[float]:\n",
    "    np.random.seed(seed)\n",
    "    tokens = np.random.rand(n * k)\n",
    "    servers = np.random.choice(range(n), n * k)\n",
    "    idxs = np.argsort(tokens)\n",
    "    fractions = defaultdict(int)\n",
    "    for idx_prev, idx in zip(idxs, idxs[1:]):\n",
    "        server_prev = servers[idx_prev]\n",
    "        diff = tokens[idx] - tokens[idx_prev]\n",
    "        fractions[server_prev] += diff\n",
    "        \n",
    "    last = 1 - tokens[idxs[-1]]\n",
    "    last += tokens[idxs[0]]\n",
    "    fractions[servers[-1]] += last\n",
    "    assert sum(fractions.values()) == 1\n",
    "    return fractions\n",
    "\n",
    "df_slices = pd.DataFrame(\n",
    "    dict(\n",
    "        k=k,\n",
    "        exp_idx=exp_idx,\n",
    "        server1=compute_slices(n=5, k=k, seed=exp_idx)[0],\n",
    "    )\n",
    "    for k in (1, 5, 10, 100, 1000, 10_000)\n",
    "    for exp_idx in range(100)\n",
    ").fillna(0)"
   ]
  },
  {
   "cell_type": "code",
   "execution_count": 12,
   "id": "f9da5264",
   "metadata": {},
   "outputs": [
    {
     "data": {
      "image/png": "[encoded data removed]",
      "text/plain": [
       "<Figure size 432x288 with 1 Axes>"
      ]
     },
     "metadata": {
      "needs_background": "light"
     },
     "output_type": "display_data"
    }
   ],
   "source": [
    "sns.boxplot(\n",
    "    x='k',\n",
    "    y='server1',\n",
    "    data=df_slices,\n",
    "    # hue='k',\n",
    ")\n",
    "plt.axhline(y=0.2, color='magenta', linestyle='-', linewidth=3)\n",
    "_ = plt.ylim([0, 1])"
   ]
  },
  {
   "cell_type": "markdown",
   "id": "cc00c43f",
   "metadata": {},
   "source": [
    "### 2. Allocation by capacity"
   ]
  },
  {
   "cell_type": "code",
   "execution_count": 13,
   "id": "0ba9a011",
   "metadata": {},
   "outputs": [],
   "source": [
    "@dataclass(frozen=True)\n",
    "class ServerToken:\n",
    "    server_id: ServerId\n",
    "    token_idx: int\n",
    "    _seed: int = SEED\n",
    "        \n",
    "    @property\n",
    "    @functools.lru_cache()\n",
    "    def key(self) -> str:\n",
    "        return f\"{self.server_id}-{self.token_idx}\"\n",
    "        \n",
    "    @property\n",
    "    @functools.lru_cache()\n",
    "    def hash_value(self) -> int:\n",
    "        return hash_mmh3(key=self.key, seed=self._seed)\n",
    "        \n",
    "    def __lt__(self, other: \"ServerToken\") -> bool:\n",
    "        return self.hash_value < other.hash_value"
   ]
  },
  {
   "cell_type": "code",
   "execution_count": 14,
   "id": "bf097ff9",
   "metadata": {},
   "outputs": [],
   "source": [
    "from typing import Dict\n",
    "\n",
    "class ConsistentHashingWithTokens:\n",
    "    def __init__(\n",
    "        self,\n",
    "        server_tokens: Dict[ServerId, int],\n",
    "        seed: int = SEED,\n",
    "    ):\n",
    "        pass"
   ]
  },
  {
   "cell_type": "code",
   "execution_count": 15,
   "id": "e5efda46",
   "metadata": {},
   "outputs": [],
   "source": [
    "from typing import Iterable, Tuple\n",
    "\n",
    "\n",
    "class ConsistentHashingWithTokens:\n",
    "    def __init__(\n",
    "        self,\n",
    "        server_tokens: Dict[ServerId, int],\n",
    "        seed: int = SEED,\n",
    "    ):\n",
    "        assert all(tokens >= 1 for tokens in server_tokens.values())\n",
    "        self._seed = seed\n",
    "        self._server_tokens = server_tokens\n",
    "        self._allocate_servers()\n",
    "        \n",
    "    def key_lookup(self, key: str) -> ServerToken:\n",
    "        key_hash = ServerToken(\n",
    "            server_id=key,\n",
    "            token_idx=0,  # dummy value\n",
    "            _seed=self._seed,\n",
    "        ).hash_value\n",
    "        distances = (\n",
    "            (\n",
    "                key_hash - server_token_obj.hash_value,\n",
    "                server_id,\n",
    "            )\n",
    "            for (server_id, _), server_token_obj\n",
    "            in self._server_allocations.items()\n",
    "        )\n",
    "        return self._find_closest(distances=distances)\n",
    "    \n",
    "    def _find_closest(\n",
    "        self,\n",
    "        distances: Iterable[Tuple[int, ServerId]],\n",
    "    ) -> ServerId:\n",
    "        # find the server with the smallest positive distance\n",
    "        # assign None if no such server exists\n",
    "        # which means that the server with the largest hash is\n",
    "        # responsible for this key\n",
    "        closest = min((\n",
    "            (dist, server_id)\n",
    "            for dist, server_id in distances\n",
    "            if dist >= 0\n",
    "        ), default=None)\n",
    "        return (\n",
    "            # get the ID of the server with the largest hash value\n",
    "            max(self._server_allocations.values()).server_id\n",
    "            if closest is None\n",
    "            else closest[1]\n",
    "        )\n",
    "        \n",
    "    def _allocate_servers(self):\n",
    "        self._server_allocations = {\n",
    "            (server_id, token_idx): ServerToken(\n",
    "                server_id=server_id,\n",
    "                token_idx=token_idx,\n",
    "                _seed=self._seed,\n",
    "            )\n",
    "            for server_id, token_count in self._server_tokens.items()\n",
    "            for token_idx in range(token_count)\n",
    "        }"
   ]
  },
  {
   "cell_type": "code",
   "execution_count": 16,
   "id": "ebf95342",
   "metadata": {},
   "outputs": [],
   "source": [
    "def experiment_capacity(a_tokens: int) -> float:\n",
    "    assert a_tokens >= 2 and a_tokens % 2 == 0\n",
    "    a = random_str()\n",
    "    b = random_str()\n",
    "    ch = ConsistentHashingWithTokens(\n",
    "        server_tokens={a: a_tokens, b: a_tokens // 2},\n",
    "    )\n",
    "    return sum(\n",
    "        ch.key_lookup(key=url) == a\n",
    "        for url in urls\n",
    "    ) / len(urls)"
   ]
  },
  {
   "cell_type": "code",
   "execution_count": 17,
   "id": "b770d77d",
   "metadata": {},
   "outputs": [
    {
     "name": "stdout",
     "output_type": "stream",
     "text": [
      "CPU times: user 1min 13s, sys: 335 ms, total: 1min 14s\n",
      "Wall time: 1min 14s\n"
     ]
    },
    {
     "data": {
      "image/png": "[encoded data removed]",
      "text/plain": [
       "<Figure size 432x288 with 1 Axes>"
      ]
     },
     "metadata": {
      "needs_background": "light"
     },
     "output_type": "display_data"
    }
   ],
   "source": [
    "%%time\n",
    "df_experiment_capacity = pd.DataFrame(\n",
    "    dict(\n",
    "        a_tokens=a_tokens,\n",
    "        experiment_idx=experiment_idx,\n",
    "        a_alloc=experiment_capacity(a_tokens=a_tokens),\n",
    "    )\n",
    "    for a_tokens in (2, 10, 50, 100)\n",
    "    for experiment_idx in range(30)\n",
    ") \n",
    "\n",
    "_ = sns.boxplot(\n",
    "    x='a_tokens',\n",
    "    y='a_alloc',\n",
    "    data=df_experiment_capacity,\n",
    ")"
   ]
  },
  {
   "cell_type": "code",
   "execution_count": 18,
   "id": "3d7e7030",
   "metadata": {},
   "outputs": [],
   "source": [
    "def alloc(\n",
    "    ch: ConsistentHashingWithTokens,\n",
    ") -> pd.Series:\n",
    "    return pd.Series(\n",
    "        ch.key_lookup(url)\n",
    "        for url in urls\n",
    "    ).value_counts(normalize=True)"
   ]
  },
  {
   "cell_type": "code",
   "execution_count": 19,
   "id": "26ff6caa",
   "metadata": {},
   "outputs": [
    {
     "name": "stdout",
     "output_type": "stream",
     "text": [
      "CPU times: user 13.1 s, sys: 202 ms, total: 13.3 s\n",
      "Wall time: 13 s\n"
     ]
    },
    {
     "data": {
      "text/plain": [
       "c    0.5202\n",
       "b    0.3832\n",
       "a    0.0966\n",
       "dtype: float64"
      ]
     },
     "execution_count": 19,
     "metadata": {},
     "output_type": "execute_result"
    }
   ],
   "source": [
    "%%time\n",
    "ch = ConsistentHashingWithTokens({'a': 100, 'b': 400, 'c': 500})\n",
    "alloc(ch=ch)"
   ]
  },
  {
   "cell_type": "code",
   "execution_count": 20,
   "id": "78f6c371",
   "metadata": {},
   "outputs": [],
   "source": [
    "class ConsistentHashingWithTokens:\n",
    "    def __init__(\n",
    "        self,\n",
    "        server_tokens: Dict[ServerId, int],\n",
    "        seed: int = SEED,\n",
    "    ):\n",
    "        assert all(tokens >= 1 for tokens in server_tokens.values())\n",
    "        self._seed = seed\n",
    "        self._server_tokens = server_tokens\n",
    "        self._update_token_hashes()\n",
    "        \n",
    "    def _update_token_hashes(self):\n",
    "        self._server_allocations = {\n",
    "            (server_id, token_idx): ServerToken(server_id=server_id, token_idx=token_idx, _seed=self._seed)\n",
    "            for server_id, token_count in self._server_tokens.items()\n",
    "            for token_idx in range(token_count)\n",
    "        }\n",
    "        \n",
    "    @classmethod\n",
    "    def equal_tokens(\n",
    "        cls,\n",
    "        servers: Set[ServerId],\n",
    "        tokens: int = 1,\n",
    "        seed: int = SEED,\n",
    "    ) -> \"ConsistentHashingWithTokens\":\n",
    "        return cls(\n",
    "            server_tokens={server: tokens for server in servers},\n",
    "            seed=seed,\n",
    "        )\n",
    "    \n",
    "    def key_lookup(self, key: str) -> ServerToken:\n",
    "        key_hash = ServerToken(\n",
    "            server_id=key,\n",
    "            token_idx=0,  # dummy value\n",
    "            _seed=self._seed,\n",
    "        ).hash_value\n",
    "        distances = (\n",
    "            (key_hash - server_token_obj.hash_value, server_id)\n",
    "            for (server_id, _), server_token_obj\n",
    "            in self._server_allocations.items()\n",
    "        )\n",
    "        return self._find_closest(distances=distances)\n",
    "    \n",
    "    def _find_closest(self, distances: Iterable[Tuple[int, ServerId]]) -> ServerId:\n",
    "        # find the server with the smallest positive distance\n",
    "        # assign None if no such server exists\n",
    "        # which means that the server with the largest hash is\n",
    "        # responsible for this key\n",
    "        closest = min((\n",
    "            (dist, server_id)\n",
    "            for dist, server_id in distances\n",
    "            if dist >= 0\n",
    "        ), default=None)\n",
    "        return (\n",
    "            # get the ID of the server with the largest hash value\n",
    "            max(self._server_allocations.values()).server_id\n",
    "            if closest is None\n",
    "            else closest[1]\n",
    "        )\n",
    "    \n",
    "    def _add_server_tokens(self, server_id: ServerId, token_count: int) -> None:\n",
    "        for token_idx in range(token_count):\n",
    "            self._server_allocations[(server_id, token_idx)] = ServerToken(\n",
    "                server_id=server_id,\n",
    "                token_idx=token_idx,\n",
    "                _seed=self._seed,\n",
    "            )\n",
    "            self._server_tokens[server_id] = token_count\n",
    "            \n",
    "    def _remove_server_tokens(self, server_id: ServerId) -> None:\n",
    "        for token_idx in range(self._server_tokens[server_id]):\n",
    "            del self._server_allocations[(server_id, token_idx)]\n",
    "        del self._server_tokens[server_id]\n",
    "        \n",
    "    def add_server(self, server_id: ServerId, token_count: int = 1) -> None:\n",
    "        if token_count < 1:\n",
    "            raise ValueError(f\"make sure that token_count >= 1\")\n",
    "        if (server_id, 0) in self._server_allocations:\n",
    "            raise ValueError(f\"server_id={server_id} already exist. use `update_server` instead.\")\n",
    "        self._add_server_tokens(server_id=server_id, token_count=token_count)\n",
    "        \n",
    "            \n",
    "    def update_server(\n",
    "        self,\n",
    "        server_id: ServerId,\n",
    "        token_count: int,\n",
    "    ) -> None:\n",
    "        if token_count < 1:\n",
    "            raise ValueError(\n",
    "                f\"make sure that token_count >= 1\"\n",
    "            )\n",
    "        self._remove_server_tokens(\n",
    "            server_id=server_id\n",
    "        )\n",
    "        self._add_server_tokens(\n",
    "            server_id=server_id,\n",
    "            token_count=token_count,\n",
    "        )\n",
    "\n",
    "    def remove_server(self, server_id: str) -> None:\n",
    "        if (server_id, 0) in self._server_allocations:\n",
    "            if len(self._server_tokens) == 1:\n",
    "                raise ValueError(\"only one server is left, cannot delete\")\n",
    "            self._remove_server_tokens(server_id=server_id)\n",
    "        else:\n",
    "            raise ValueError(f\"server ID {server_id} does not exist\")"
   ]
  },
  {
   "cell_type": "code",
   "execution_count": 21,
   "id": "efdf8516",
   "metadata": {},
   "outputs": [],
   "source": [
    "ch = ConsistentHashingWithTokens.equal_tokens(\n",
    "    servers={'a', 'b', 'c'},\n",
    "    tokens=100,\n",
    ")"
   ]
  },
  {
   "cell_type": "code",
   "execution_count": 22,
   "id": "d1300fb1",
   "metadata": {},
   "outputs": [
    {
     "data": {
      "text/plain": [
       "b    0.3444\n",
       "a    0.3295\n",
       "c    0.3261\n",
       "dtype: float64"
      ]
     },
     "execution_count": 22,
     "metadata": {},
     "output_type": "execute_result"
    }
   ],
   "source": [
    "alloc(ch=ch)"
   ]
  },
  {
   "cell_type": "code",
   "execution_count": 23,
   "id": "77f67025",
   "metadata": {},
   "outputs": [],
   "source": [
    "ch.update_server(server_id='a', token_count=50)"
   ]
  },
  {
   "cell_type": "code",
   "execution_count": 24,
   "id": "b6f1afcb",
   "metadata": {},
   "outputs": [
    {
     "data": {
      "text/plain": [
       "b    0.4168\n",
       "c    0.3547\n",
       "a    0.2285\n",
       "dtype: float64"
      ]
     },
     "execution_count": 24,
     "metadata": {},
     "output_type": "execute_result"
    }
   ],
   "source": [
    "alloc(ch=ch)"
   ]
  },
  {
   "cell_type": "code",
   "execution_count": 25,
   "id": "1ed46395",
   "metadata": {},
   "outputs": [],
   "source": [
    "ch.remove_server('a')"
   ]
  },
  {
   "cell_type": "code",
   "execution_count": 26,
   "id": "57d42911",
   "metadata": {},
   "outputs": [
    {
     "data": {
      "text/plain": [
       "b    0.5435\n",
       "c    0.4565\n",
       "dtype: float64"
      ]
     },
     "execution_count": 26,
     "metadata": {},
     "output_type": "execute_result"
    }
   ],
   "source": [
    "alloc(ch=ch)"
   ]
  },
  {
   "cell_type": "code",
   "execution_count": 27,
   "id": "60da59b2",
   "metadata": {},
   "outputs": [],
   "source": [
    "ch.add_server('d', token_count=200)"
   ]
  },
  {
   "cell_type": "code",
   "execution_count": 28,
   "id": "44b29b39",
   "metadata": {},
   "outputs": [
    {
     "data": {
      "text/plain": [
       "d    0.5133\n",
       "b    0.2448\n",
       "c    0.2419\n",
       "dtype: float64"
      ]
     },
     "execution_count": 28,
     "metadata": {},
     "output_type": "execute_result"
    }
   ],
   "source": [
    "alloc(ch=ch)"
   ]
  },
  {
   "cell_type": "code",
   "execution_count": 29,
   "id": "26f1b557",
   "metadata": {},
   "outputs": [
    {
     "data": {
      "text/plain": [
       "{('c', 0): ServerToken(server_id='c', token_idx=0, _seed=0),\n",
       " ('c', 1): ServerToken(server_id='c', token_idx=1, _seed=0),\n",
       " ('c', 2): ServerToken(server_id='c', token_idx=2, _seed=0),\n",
       " ('b', 0): ServerToken(server_id='b', token_idx=0, _seed=0),\n",
       " ('b', 1): ServerToken(server_id='b', token_idx=1, _seed=0),\n",
       " ('b', 2): ServerToken(server_id='b', token_idx=2, _seed=0),\n",
       " ('a', 0): ServerToken(server_id='a', token_idx=0, _seed=0),\n",
       " ('a', 1): ServerToken(server_id='a', token_idx=1, _seed=0),\n",
       " ('a', 2): ServerToken(server_id='a', token_idx=2, _seed=0)}"
      ]
     },
     "execution_count": 29,
     "metadata": {},
     "output_type": "execute_result"
    }
   ],
   "source": [
    "ch_tiny = ConsistentHashingWithTokens.equal_tokens({'a', 'b', 'c'}, tokens=3)\n",
    "ch_tiny._server_allocations"
   ]
  },
  {
   "cell_type": "code",
   "execution_count": null,
   "id": "3ed58069",
   "metadata": {},
   "outputs": [],
   "source": []
  }
 ],
 "metadata": {
  "kernelspec": {
   "display_name": "Python 3 (ipykernel)",
   "language": "python",
   "name": "python3"
  },
  "language_info": {
   "codemirror_mode": {
    "name": "ipython",
    "version": 3
   },
   "file_extension": ".py",
   "mimetype": "text/x-python",
   "name": "python",
   "nbconvert_exporter": "python",
   "pygments_lexer": "ipython3",
   "version": "3.9.7"
  }
 },
 "nbformat": 4,
 "nbformat_minor": 5
}
