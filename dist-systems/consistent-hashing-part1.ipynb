{
 "cells": [
  {
   "cell_type": "markdown",
   "id": "761550ef",
   "metadata": {},
   "source": [
    "# Consistent hashing from first principles - Part 1"
   ]
  },
  {
   "cell_type": "code",
   "execution_count": 3,
   "id": "857fd47f",
   "metadata": {},
   "outputs": [
    {
     "name": "stdout",
     "output_type": "stream",
     "text": [
      "mmh3==3.0.0\r\n"
     ]
    }
   ],
   "source": [
    "!pip install -q mmh3==3.0.0\n",
    "!pip freeze | grep mmh3"
   ]
  },
  {
   "cell_type": "code",
   "execution_count": 1,
   "id": "6f7b2be1",
   "metadata": {},
   "outputs": [],
   "source": [
    "def allocate(url: str, server_count: int) -> int:\n",
    "    ..."
   ]
  },
  {
   "cell_type": "code",
   "execution_count": 2,
   "id": "aa3b74bb",
   "metadata": {},
   "outputs": [],
   "source": [
    "from typing import Callable\n",
    "\n",
    "\n",
    "def allocate_modulo(\n",
    "    url: str,\n",
    "    server_count: int,\n",
    "    hash_fn: Callable[[str], int],\n",
    ") -> int:\n",
    "    return hash_fn(url) % server_count"
   ]
  },
  {
   "cell_type": "code",
   "execution_count": 4,
   "id": "528380d0",
   "metadata": {},
   "outputs": [],
   "source": [
    "import functools\n",
    "import mmh3\n",
    "\n",
    "\n",
    "SEED = 0\n",
    "\n",
    "\n",
    "def hash_mmh3(key: str, seed: int = SEED) -> int:\n",
    "    return mmh3.hash(key, seed=seed)\n",
    "\n",
    "\n",
    "assert hash_mmh3(key='x') == 1050319643\n",
    "\n",
    "allocate_modulo_mmh3 = functools.partial(\n",
    "    allocate_modulo,\n",
    "    hash_fn=hash_mmh3,\n",
    ")"
   ]
  },
  {
   "cell_type": "code",
   "execution_count": 5,
   "id": "8fa40fc0",
   "metadata": {},
   "outputs": [],
   "source": [
    "urls = [\n",
    "    'wikipedia.org',\n",
    "    'instagram.com',\n",
    "    'google.com',\n",
    "    'youtube.com',\n",
    "    'apple.com',\n",
    "    'arxiv.org',\n",
    "]"
   ]
  },
  {
   "cell_type": "code",
   "execution_count": 6,
   "id": "c9b04f27",
   "metadata": {},
   "outputs": [],
   "source": [
    "import pandas as pd\n",
    "from typing import List\n",
    "\n",
    "\n",
    "def allocate_urls(\n",
    "    urls: List[str],\n",
    "    server_count: int,\n",
    ") -> pd.DataFrame:\n",
    "    return pd.DataFrame(\n",
    "        dict(\n",
    "            url=url,\n",
    "            hash_value=hash_mmh3(url),\n",
    "            server_index=allocate_modulo_mmh3(\n",
    "                url=url,\n",
    "                server_count=server_count,\n",
    "            ),\n",
    "        )\n",
    "        for url in urls\n",
    "    )"
   ]
  },
  {
   "cell_type": "code",
   "execution_count": 7,
   "id": "95bf360c",
   "metadata": {},
   "outputs": [
    {
     "data": {
      "text/html": [
       "<div>\n",
       "<style scoped>\n",
       "    .dataframe tbody tr th:only-of-type {\n",
       "        vertical-align: middle;\n",
       "    }\n",
       "\n",
       "    .dataframe tbody tr th {\n",
       "        vertical-align: top;\n",
       "    }\n",
       "\n",
       "    .dataframe thead th {\n",
       "        text-align: right;\n",
       "    }\n",
       "</style>\n",
       "<table border=\"1\" class=\"dataframe\">\n",
       "  <thead>\n",
       "    <tr style=\"text-align: right;\">\n",
       "      <th></th>\n",
       "      <th>url</th>\n",
       "      <th>hash_value</th>\n",
       "      <th>server_index</th>\n",
       "    </tr>\n",
       "  </thead>\n",
       "  <tbody>\n",
       "    <tr>\n",
       "      <th>0</th>\n",
       "      <td>wikipedia.org</td>\n",
       "      <td>1279360222</td>\n",
       "      <td>1</td>\n",
       "    </tr>\n",
       "    <tr>\n",
       "      <th>1</th>\n",
       "      <td>instagram.com</td>\n",
       "      <td>-1059558490</td>\n",
       "      <td>2</td>\n",
       "    </tr>\n",
       "    <tr>\n",
       "      <th>2</th>\n",
       "      <td>google.com</td>\n",
       "      <td>-315053210</td>\n",
       "      <td>1</td>\n",
       "    </tr>\n",
       "    <tr>\n",
       "      <th>3</th>\n",
       "      <td>youtube.com</td>\n",
       "      <td>394031484</td>\n",
       "      <td>0</td>\n",
       "    </tr>\n",
       "    <tr>\n",
       "      <th>4</th>\n",
       "      <td>apple.com</td>\n",
       "      <td>-1612700317</td>\n",
       "      <td>2</td>\n",
       "    </tr>\n",
       "    <tr>\n",
       "      <th>5</th>\n",
       "      <td>arxiv.org</td>\n",
       "      <td>202658087</td>\n",
       "      <td>2</td>\n",
       "    </tr>\n",
       "  </tbody>\n",
       "</table>\n",
       "</div>"
      ],
      "text/plain": [
       "             url  hash_value  server_index\n",
       "0  wikipedia.org  1279360222             1\n",
       "1  instagram.com -1059558490             2\n",
       "2     google.com  -315053210             1\n",
       "3    youtube.com   394031484             0\n",
       "4      apple.com -1612700317             2\n",
       "5      arxiv.org   202658087             2"
      ]
     },
     "execution_count": 7,
     "metadata": {},
     "output_type": "execute_result"
    }
   ],
   "source": [
    "df1 = allocate_urls(urls=urls, server_count=3)\n",
    "df1"
   ]
  },
  {
   "cell_type": "code",
   "execution_count": 8,
   "id": "65c1d8a7",
   "metadata": {},
   "outputs": [],
   "source": [
    "import string\n",
    "import numpy as np\n",
    "\n",
    "\n",
    "def random_str() -> str:\n",
    "    return \"\".join(np.random.choice(\n",
    "        # select from lowercase letters\n",
    "        list(string.ascii_lowercase),\n",
    "        # generate a string that's between 6 to 20\n",
    "        # characters long\n",
    "        size=np.random.randint(6, 20),\n",
    "        replace=True,\n",
    "    ))"
   ]
  },
  {
   "cell_type": "code",
   "execution_count": 9,
   "id": "193191b4",
   "metadata": {},
   "outputs": [
    {
     "data": {
      "text/plain": [
       "2    0.3377\n",
       "0    0.3326\n",
       "1    0.3297\n",
       "Name: server_index, dtype: float64"
      ]
     },
     "execution_count": 9,
     "metadata": {},
     "output_type": "execute_result"
    }
   ],
   "source": [
    "# these are random and will be slightly different per run\n",
    "allocate_urls(\n",
    "    urls=[random_str() for _ in range(10_000)],\n",
    "    server_count=3,\n",
    ").server_index.value_counts(normalize=True)"
   ]
  },
  {
   "cell_type": "code",
   "execution_count": 10,
   "id": "38d8af11",
   "metadata": {},
   "outputs": [
    {
     "data": {
      "text/html": [
       "<div>\n",
       "<style scoped>\n",
       "    .dataframe tbody tr th:only-of-type {\n",
       "        vertical-align: middle;\n",
       "    }\n",
       "\n",
       "    .dataframe tbody tr th {\n",
       "        vertical-align: top;\n",
       "    }\n",
       "\n",
       "    .dataframe thead th {\n",
       "        text-align: right;\n",
       "    }\n",
       "</style>\n",
       "<table border=\"1\" class=\"dataframe\">\n",
       "  <thead>\n",
       "    <tr style=\"text-align: right;\">\n",
       "      <th></th>\n",
       "      <th>url</th>\n",
       "      <th>hash_value</th>\n",
       "      <th>server_index</th>\n",
       "    </tr>\n",
       "  </thead>\n",
       "  <tbody>\n",
       "    <tr>\n",
       "      <th>0</th>\n",
       "      <td>wikipedia.org</td>\n",
       "      <td>1279360222</td>\n",
       "      <td>2</td>\n",
       "    </tr>\n",
       "    <tr>\n",
       "      <th>1</th>\n",
       "      <td>instagram.com</td>\n",
       "      <td>-1059558490</td>\n",
       "      <td>2</td>\n",
       "    </tr>\n",
       "    <tr>\n",
       "      <th>2</th>\n",
       "      <td>google.com</td>\n",
       "      <td>-315053210</td>\n",
       "      <td>2</td>\n",
       "    </tr>\n",
       "    <tr>\n",
       "      <th>3</th>\n",
       "      <td>youtube.com</td>\n",
       "      <td>394031484</td>\n",
       "      <td>0</td>\n",
       "    </tr>\n",
       "    <tr>\n",
       "      <th>4</th>\n",
       "      <td>apple.com</td>\n",
       "      <td>-1612700317</td>\n",
       "      <td>3</td>\n",
       "    </tr>\n",
       "    <tr>\n",
       "      <th>5</th>\n",
       "      <td>arxiv.org</td>\n",
       "      <td>202658087</td>\n",
       "      <td>3</td>\n",
       "    </tr>\n",
       "  </tbody>\n",
       "</table>\n",
       "</div>"
      ],
      "text/plain": [
       "             url  hash_value  server_index\n",
       "0  wikipedia.org  1279360222             2\n",
       "1  instagram.com -1059558490             2\n",
       "2     google.com  -315053210             2\n",
       "3    youtube.com   394031484             0\n",
       "4      apple.com -1612700317             3\n",
       "5      arxiv.org   202658087             3"
      ]
     },
     "execution_count": 10,
     "metadata": {},
     "output_type": "execute_result"
    }
   ],
   "source": [
    "df2 = allocate_urls(urls, server_count=4)\n",
    "df2"
   ]
  },
  {
   "cell_type": "code",
   "execution_count": 12,
   "id": "fa7bc8c0",
   "metadata": {},
   "outputs": [
    {
     "data": {
      "text/html": [
       "<div>\n",
       "<style scoped>\n",
       "    .dataframe tbody tr th:only-of-type {\n",
       "        vertical-align: middle;\n",
       "    }\n",
       "\n",
       "    .dataframe tbody tr th {\n",
       "        vertical-align: top;\n",
       "    }\n",
       "\n",
       "    .dataframe thead th {\n",
       "        text-align: right;\n",
       "    }\n",
       "</style>\n",
       "<table border=\"1\" class=\"dataframe\">\n",
       "  <thead>\n",
       "    <tr style=\"text-align: right;\">\n",
       "      <th></th>\n",
       "      <th>url</th>\n",
       "      <th>hash_value</th>\n",
       "      <th>server_index_before</th>\n",
       "      <th>server_index_after</th>\n",
       "      <th>same</th>\n",
       "    </tr>\n",
       "  </thead>\n",
       "  <tbody>\n",
       "    <tr>\n",
       "      <th>0</th>\n",
       "      <td>wikipedia.org</td>\n",
       "      <td>1279360222</td>\n",
       "      <td>1</td>\n",
       "      <td>2</td>\n",
       "      <td>False</td>\n",
       "    </tr>\n",
       "    <tr>\n",
       "      <th>1</th>\n",
       "      <td>instagram.com</td>\n",
       "      <td>-1059558490</td>\n",
       "      <td>2</td>\n",
       "      <td>2</td>\n",
       "      <td>True</td>\n",
       "    </tr>\n",
       "    <tr>\n",
       "      <th>2</th>\n",
       "      <td>google.com</td>\n",
       "      <td>-315053210</td>\n",
       "      <td>1</td>\n",
       "      <td>2</td>\n",
       "      <td>False</td>\n",
       "    </tr>\n",
       "    <tr>\n",
       "      <th>3</th>\n",
       "      <td>youtube.com</td>\n",
       "      <td>394031484</td>\n",
       "      <td>0</td>\n",
       "      <td>0</td>\n",
       "      <td>True</td>\n",
       "    </tr>\n",
       "    <tr>\n",
       "      <th>4</th>\n",
       "      <td>apple.com</td>\n",
       "      <td>-1612700317</td>\n",
       "      <td>2</td>\n",
       "      <td>3</td>\n",
       "      <td>False</td>\n",
       "    </tr>\n",
       "    <tr>\n",
       "      <th>5</th>\n",
       "      <td>arxiv.org</td>\n",
       "      <td>202658087</td>\n",
       "      <td>2</td>\n",
       "      <td>3</td>\n",
       "      <td>False</td>\n",
       "    </tr>\n",
       "  </tbody>\n",
       "</table>\n",
       "</div>"
      ],
      "text/plain": [
       "             url  hash_value  server_index_before  server_index_after   same\n",
       "0  wikipedia.org  1279360222                    1                   2  False\n",
       "1  instagram.com -1059558490                    2                   2   True\n",
       "2     google.com  -315053210                    1                   2  False\n",
       "3    youtube.com   394031484                    0                   0   True\n",
       "4      apple.com -1612700317                    2                   3  False\n",
       "5      arxiv.org   202658087                    2                   3  False"
      ]
     },
     "execution_count": 12,
     "metadata": {},
     "output_type": "execute_result"
    }
   ],
   "source": [
    "def after(\n",
    "    df_before: pd.DataFrame,\n",
    "    df_after: pd.DataFrame,\n",
    ") -> pd.DataFrame:\n",
    "    df_after = df_before.merge(\n",
    "        df_after,\n",
    "        on=['url', 'hash_value'],\n",
    "        suffixes=['_before', '_after'],\n",
    "    )\n",
    "    idx_before = df_after.server_index_before\n",
    "    idx_after = df_after.server_index_after\n",
    "    return df_after.assign(same=idx_before == idx_after)\n",
    "\n",
    "\n",
    "df_after = after(df_before=df1, df_after=df2)\n",
    "df_after"
   ]
  },
  {
   "cell_type": "code",
   "execution_count": 13,
   "id": "04f33fc4",
   "metadata": {},
   "outputs": [],
   "source": [
    "assert df_after.same.sum() == 2"
   ]
  },
  {
   "cell_type": "code",
   "execution_count": 14,
   "id": "5f3e9e32",
   "metadata": {},
   "outputs": [],
   "source": [
    "def same_allocation(\n",
    "    servers_before: int,\n",
    "    servers_after: int,\n",
    "    url_count: int=100,\n",
    "    repeat: int=100,\n",
    ") -> float:\n",
    "    urls_list = [\n",
    "        [random_str() for _ in range(url_count)]\n",
    "        for _ in range(repeat)\n",
    "    ]\n",
    "    return np.mean([\n",
    "        after(\n",
    "            df_before=allocate_urls(\n",
    "                urls=urls,\n",
    "                server_count=servers_before,\n",
    "            ),\n",
    "            df_after=allocate_urls(\n",
    "                urls=urls,\n",
    "                server_count=servers_after,\n",
    "            ),\n",
    "        ).same.mean()\n",
    "        for urls in urls_list\n",
    "    ])"
   ]
  },
  {
   "cell_type": "code",
   "execution_count": 15,
   "id": "46356552",
   "metadata": {},
   "outputs": [],
   "source": [
    "assert np.allclose(\n",
    "    same_allocation(servers_before=3, servers_after=4),\n",
    "    0.25,\n",
    "    atol=1e-2,\n",
    ")"
   ]
  },
  {
   "cell_type": "code",
   "execution_count": 16,
   "id": "8808507c",
   "metadata": {},
   "outputs": [],
   "source": [
    "assert np.allclose(\n",
    "    same_allocation(servers_before=4, servers_after=5),\n",
    "    1 / 5,\n",
    "    atol=1e-2,\n",
    ")\n",
    "assert np.allclose(\n",
    "    same_allocation(servers_before=5, servers_after=6),\n",
    "    1 / 6,\n",
    "    atol=1e-2,\n",
    ")"
   ]
  },
  {
   "cell_type": "code",
   "execution_count": 17,
   "id": "892274da",
   "metadata": {},
   "outputs": [
    {
     "data": {
      "image/png": "[encoded data removed]",
      "text/plain": [
       "<Figure size 432x288 with 1 Axes>"
      ]
     },
     "metadata": {
      "needs_background": "light"
     },
     "output_type": "display_data"
    }
   ],
   "source": [
    "import matplotlib.pyplot as plt\n",
    "\n",
    "\n",
    "pd.DataFrame(\n",
    "    dict(\n",
    "        n=n,\n",
    "        empirical=same_allocation(n, n + 1),\n",
    "        theoretical=1 / (n + 1),\n",
    "    )\n",
    "    for n in range(1, 10 + 1)\n",
    ").set_index('n').plot()\n",
    "_ = plt.ylabel('Fraction of consistent allocations')"
   ]
  },
  {
   "cell_type": "markdown",
   "id": "7ab69b78",
   "metadata": {},
   "source": [
    "### Implementation"
   ]
  },
  {
   "cell_type": "code",
   "execution_count": 20,
   "id": "a8307d69",
   "metadata": {},
   "outputs": [],
   "source": [
    "from dataclasses import dataclass\n",
    "\n",
    "\n",
    "ServerId = str\n",
    "\n",
    "\n",
    "@dataclass(frozen=True)\n",
    "class Server:\n",
    "    server_id: ServerId\n",
    "    seed: int = SEED\n",
    "        \n",
    "    @property\n",
    "    @functools.lru_cache()\n",
    "    def hash_value(self) -> int:\n",
    "        return hash_mmh3(key=self.server_id, seed=self.seed)\n",
    "        \n",
    "    def __lt__(self, other: \"Server\") -> bool:\n",
    "        return self.hash_value < other.hash_value"
   ]
  },
  {
   "cell_type": "code",
   "execution_count": 21,
   "id": "d94d55ab",
   "metadata": {},
   "outputs": [],
   "source": [
    "from typing import Set"
   ]
  },
  {
   "cell_type": "code",
   "execution_count": 23,
   "id": "9bb2a914",
   "metadata": {},
   "outputs": [],
   "source": [
    "class ConsistentHashing:\n",
    "    def __init__(self, server_ids: Set[str], seed: int = SEED):\n",
    "        assert len(server_ids) > 0\n",
    "        self._seed = seed\n",
    "        self._server_ids = server_ids\n",
    "        self._server_allocations = None\n",
    "        self._allocate_servers()\n",
    "        \n",
    "    def key_lookup(self, key: str) -> ServerId:\n",
    "        \"\"\"\n",
    "        Allocate `key` to a server.\n",
    "        \"\"\"\n",
    "        key_hash = hash_mmh3(key=key, seed=self._seed)\n",
    "        # compute the distance between the hash value of\n",
    "        # the input key and each server's hash\n",
    "        distances = (\n",
    "            (key_hash - server_obj.hash_value, server_id)\n",
    "            for server_id, server_obj\n",
    "            in self._server_allocations.items()\n",
    "        )\n",
    "        # find the server with the smallest positive distance\n",
    "        # assign None if no such server exists\n",
    "        # which means that the server with the largest hash is\n",
    "        # responsible for this key\n",
    "        closest = min((\n",
    "            (dist, server_id)\n",
    "            for dist, server_id in distances\n",
    "            if dist >= 0\n",
    "        ), default=None)\n",
    "        return (\n",
    "            # get the ID of the server with the largest hash value\n",
    "            max(self._server_allocations.values()).server_id\n",
    "            if closest is None\n",
    "            else closest[1]\n",
    "        )\n",
    "        \n",
    "    def add_server(self, server_id: ServerId) -> None:\n",
    "        if server_id in self._server_allocations:\n",
    "            raise ValueError(\n",
    "                f\"server_id={server_id} already exist.\"\n",
    "            )\n",
    "        self._server_ids.add(server_id)\n",
    "        self._add_server(server_id=server_id)\n",
    "    \n",
    "    def remove_server(self, server_id: ServerId) -> None:\n",
    "        if server_id not in self._server_allocations:\n",
    "            raise ValueError(\n",
    "                f\"server_id={server_id} does not exist\"\n",
    "            )\n",
    "        if len(self._server_allocations) == 1:\n",
    "            raise ValueError(\n",
    "                \"only one server left- cannot delete\"\n",
    "            )\n",
    "        self._server_ids.remove(server_id)\n",
    "        self._remove_server(server_id=server_id)\n",
    "        \n",
    "    def _allocate_servers(self):\n",
    "        \"\"\"\n",
    "        Map servers to the ring given the\n",
    "        current set of server IDs.\n",
    "        \"\"\"\n",
    "        self._server_allocations = {\n",
    "            server_id: Server(\n",
    "                server_id=server_id,\n",
    "                seed=self._seed,\n",
    "            )\n",
    "            for server_id in self._server_ids\n",
    "        }\n",
    "        \n",
    "    def _add_server(self, server_id: ServerId) -> None:\n",
    "        self._server_allocations[server_id] = Server(\n",
    "            server_id=server_id,\n",
    "            seed=self._seed,\n",
    "        )\n",
    "        \n",
    "    def _remove_server(self, server_id: ServerId) -> None:\n",
    "        del self._server_allocations[server_id]"
   ]
  },
  {
   "cell_type": "markdown",
   "id": "05fd8e4d",
   "metadata": {},
   "source": [
    "#### let's use it"
   ]
  },
  {
   "cell_type": "code",
   "execution_count": 32,
   "id": "4699ecb1",
   "metadata": {},
   "outputs": [],
   "source": [
    "ch = ConsistentHashing(server_ids={'1', '2', '3'})"
   ]
  },
  {
   "cell_type": "code",
   "execution_count": 33,
   "id": "b09d83c0",
   "metadata": {},
   "outputs": [],
   "source": [
    "url_ex1 = 'google.com'\n",
    "url_ex2 = 'wikipedia.org'"
   ]
  },
  {
   "cell_type": "code",
   "execution_count": 34,
   "id": "dc567346",
   "metadata": {},
   "outputs": [],
   "source": [
    "assert ch.key_lookup(url_ex1) == '1'\n",
    "assert ch.key_lookup(url_ex2) == '3'"
   ]
  },
  {
   "cell_type": "code",
   "execution_count": 35,
   "id": "5824b3ae",
   "metadata": {},
   "outputs": [],
   "source": [
    "ch.add_server('4')"
   ]
  },
  {
   "cell_type": "code",
   "execution_count": 36,
   "id": "025dbbfb",
   "metadata": {},
   "outputs": [],
   "source": [
    "assert ch.key_lookup(url_ex1) == '4'\n",
    "assert ch.key_lookup(url_ex2) == '3'"
   ]
  },
  {
   "cell_type": "code",
   "execution_count": 37,
   "id": "fe7be529",
   "metadata": {},
   "outputs": [],
   "source": [
    "ch.remove_server('4')"
   ]
  },
  {
   "cell_type": "code",
   "execution_count": 38,
   "id": "6e23be79",
   "metadata": {},
   "outputs": [],
   "source": [
    "assert ch.key_lookup(url_ex1) == '1'\n",
    "assert ch.key_lookup(url_ex2) == '3'"
   ]
  }
 ],
 "metadata": {
  "kernelspec": {
   "display_name": "Python 3 (ipykernel)",
   "language": "python",
   "name": "python3"
  },
  "language_info": {
   "codemirror_mode": {
    "name": "ipython",
    "version": 3
   },
   "file_extension": ".py",
   "mimetype": "text/x-python",
   "name": "python",
   "nbconvert_exporter": "python",
   "pygments_lexer": "ipython3",
   "version": "3.9.7"
  }
 },
 "nbformat": 4,
 "nbformat_minor": 5
}
